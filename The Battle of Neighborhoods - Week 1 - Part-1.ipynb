{
 "cells": [
  {
   "cell_type": "markdown",
   "metadata": {
    "collapsed": true
   },
   "source": [
    "## The Battle of the Neighborhoods - Week 1"
   ]
  },
  {
   "cell_type": "code",
   "execution_count": null,
   "metadata": {},
   "outputs": [],
   "source": []
  },
  {
   "cell_type": "markdown",
   "metadata": {},
   "source": [
    "###  Problem Background:"
   ]
  },
  {
   "cell_type": "markdown",
   "metadata": {},
   "source": [
    "The City of New York is the most crowded city in the United States. It is assorted and is the money related capital of the USA. It is multicultural. It gives a parcel of business opportunities and business neighborly conditions. It has pulled in a wide range of players into the market. It is a worldwide center of business and trade. A city is a significant place for banking and money, retailing, world exchange, transportation, the travel industry, land, new media, conventional media, promoting, legitimate administrations, bookkeeping, protection, theater, design, and expressions of the human experience in the United States.\n",
    "\n",
    "This additionally implies the market is exceptionally serious. As it is a profoundly evolved city so the cost of working together is likewise one of the most noteworthy. \n",
    "\n",
    "In this way, any new undertaking or extension should be investigated cautiously. The experiences got from the examination will give great comprehension \n",
    "\n",
    "of the business condition which helps in deliberately focusing available. This will help in the decrease in hazard. Also, the Return on Investment will be sensible."
   ]
  },
  {
   "cell_type": "markdown",
   "metadata": {},
   "source": [
    "###  Problem Description:"
   ]
  },
  {
   "cell_type": "markdown",
   "metadata": {},
   "source": [
    "A restaurant is a business which prepares and serves food and drink to customers in return for money, either paid before the meal, after the meal or with an open account. The City of New York is famous for its excellent cuisine. Its food culture includes an array of international cuisines influenced by the city's immigrant history.<Br> \n",
    "1. Focal and Eastern European settlers, particularly Jewish workers - bagels, cheesecake, franks, knishes, and delicatessens<Br> \n",
    "\n",
    "2. Italian settlers - New York-style pizza and Italian cuisine<Br> \n",
    "\n",
    "3. Jewish settlers and Irish workers - pastrami and corned beef<Br> \n",
    "\n",
    "4. Chinese and other Asian eateries, sandwich joints, trattorias, cafes, and cafés are universal all through the city<Br> \n",
    "\n",
    "5. portable nourishment merchants - Some 4,000 authorized by the city<Br> \n",
    "\n",
    "6. Center Eastern nourishments, for example, falafel and kebabs instances of current New York road food<Br> \n",
    "\n",
    "7. It is well known for Pizzerias, Cafe's yet in addition to high-end food Michelin featured restaurants. The city is home to \"about one thousand of the best and most various Haute cooking cafés on the planet\", as per Michelin. \n",
    "\n",
    "So it is evident that to survive in such competitive market it is very important to startegically plan. Various factors need to be studied inorder to decide on the Location such as : <Br>\n",
    "1. New York Population <Br>\n",
    "2. New York City Demographics <Br>\n",
    "2. Are there any Farmers Markets, Wholesale markets etc nearby so that the ingredients can be purchased fresh to maintain quality and cost?<Br>\n",
    "3. Are there any venues like Gyms, Entertainmnet zones, Parks etc nearby where floating population is high etc <Br>\n",
    "4. Who are the competitors in that location? <Br>\n",
    "5. Cuisine served / Menu of the competitors <Br>\n",
    "6. Segmentation of the Borough <Br>\n",
    "7. Untapped markets <Br>\n",
    "8. Saturated markets etc<Br>\n",
    "The list can go on...\n",
    "    \n",
    "Even though very much supported XYZ Company Ltd. needs to pick the right area to begin its first venture. If this is effective they can duplicate the equivalent in different areas. The first move is significant, in this way the decision of area is significant."
   ]
  },
  {
   "cell_type": "markdown",
   "metadata": {},
   "source": [
    "### Target Audience:"
   ]
  },
  {
   "cell_type": "markdown",
   "metadata": {},
   "source": [
    "To prescribe the right area, XYZ Company Ltd has designated me to lead of the Data Science group. The goal is to find and prescribe to the administration which neighborhood of Newyork city will be best decision to begin an eatery. The Management additionally hopes to comprehend the method of reasoning of the proposals made. \n",
    "\n",
    "This would intrigue any individual who needs to begin another café in Newyork city."
   ]
  },
  {
   "cell_type": "markdown",
   "metadata": {},
   "source": [
    "###  Success Criteria:"
   ]
  },
  {
   "cell_type": "markdown",
   "metadata": {},
   "source": [
    "The achievement criteria of the venture will be a decent proposal of district/Neighborhood decision to XYZ Company Ltd dependent on Lack of such eateries in that area and closest providers of fixings."
   ]
  },
  {
   "cell_type": "code",
   "execution_count": null,
   "metadata": {},
   "outputs": [],
   "source": []
  }
 ],
 "metadata": {
  "kernelspec": {
   "display_name": "Python 3",
   "language": "python",
   "name": "python3"
  },
  "language_info": {
   "codemirror_mode": {
    "name": "ipython",
    "version": 3
   },
   "file_extension": ".py",
   "mimetype": "text/x-python",
   "name": "python",
   "nbconvert_exporter": "python",
   "pygments_lexer": "ipython3",
   "version": "3.7.3"
  }
 },
 "nbformat": 4,
 "nbformat_minor": 1
}
