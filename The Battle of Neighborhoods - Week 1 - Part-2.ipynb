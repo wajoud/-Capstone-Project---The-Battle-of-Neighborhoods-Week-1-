{
 "cells": [
  {
   "cell_type": "markdown",
   "metadata": {
    "collapsed": true
   },
   "source": [
    "## The Battle of the Neighborhoods - Week 1"
   ]
  },
  {
   "cell_type": "markdown",
   "metadata": {},
   "source": [
    "### Data :"
   ]
  },
  {
   "cell_type": "markdown",
   "metadata": {},
   "source": [
    "the city which will be analysis in this project : ***Newyork City***. \n",
    "\n",
    "We will be using the below datasets."
   ]
  },
  {
   "cell_type": "markdown",
   "metadata": {},
   "source": [
    "***Data 1 :*** \n",
    "The neighborhood has an aggregate of 5 districts and 306 neighborhoods. So as to segment the areas and investigate them, we will basically require a dataset that contains the 5 wards and the areas that exist in every district just as the scope and longitude directions of every area.\n",
    "\n",
    ". Link to the dataset is : https://geo.nyu.edu/catalog/nyu_2451_34572"
   ]
  },
  {
   "cell_type": "markdown",
   "metadata": {},
   "source": [
    "***Data 2 :*** Second data which will be used is the DOHMH Farmers Markets and Food Boxes dataset. In this we will be using the data of Farmers Markets.\n",
    "\n",
    "https://data.cityofnewyork.us/dataset/DOHMH-Farmers-Markets-and-Food-Boxes/8vwk-6iz2\n",
    "\n",
    "Website-https://www.grownyc.org/greenmarketco/foodbox <Br>\n",
    "\n",
    "A ***farmers' market*** is often defined as a public site used by two or more local or regional producers for the direct sale of farm products to consumers. In addition to fresh fruits and vegetables, markets may sell dairy products, fish, meat, baked goods, and other minimally processed foods."
   ]
  },
  {
   "cell_type": "markdown",
   "metadata": {},
   "source": [
    "***Data 3 :*** For the below analysis we will get data from wikipedia as given below : <Br>\n",
    "1. New York Population <Br>\n",
    "2. New York City Demographics <Br>\n",
    "3. Cuisine of New York city <Br>\n",
    "    \n",
    "https://en.wikipedia.org/wiki/New_York_City <Br>\n",
    "https://en.wikipedia.org/wiki/Economy_of_New_York_City <Br>\n",
    "https://en.wikipedia.org/wiki/Portal:New_York_City <Br>\n",
    "https://en.wikipedia.org/wiki/Cuisine_of_New_York_City <Br>\n",
    "https://en.wikipedia.org/wiki/List_of_Michelin_starred_restaurants_in_New_York_City"
   ]
  },
  {
   "cell_type": "markdown",
   "metadata": {},
   "source": [
    "***Data 4 :*** Newyork city geographical coordinates data will be utilized as input for the Foursquare API, that will be leveraged to provision venues information for each neighborhood.We will use the Foursquare API to explore neighborhoods in New York City. The below is image of the Foursquare API data.\n",
    "\n",
    "<a href=\"https://i.imgur.com/MOxxyoY.png \">\n",
    "  <img src=\"https://i.imgur.com/MOxxyoY.png\" alt=\"Data Sample\">\n",
    "</a>"
   ]
  },
  {
   "cell_type": "code",
   "execution_count": null,
   "metadata": {},
   "outputs": [],
   "source": []
  }
 ],
 "metadata": {
  "kernelspec": {
   "display_name": "Python 3",
   "language": "python",
   "name": "python3"
  },
  "language_info": {
   "codemirror_mode": {
    "name": "ipython",
    "version": 3
   },
   "file_extension": ".py",
   "mimetype": "text/x-python",
   "name": "python",
   "nbconvert_exporter": "python",
   "pygments_lexer": "ipython3",
   "version": "3.7.3"
  }
 },
 "nbformat": 4,
 "nbformat_minor": 1
}
